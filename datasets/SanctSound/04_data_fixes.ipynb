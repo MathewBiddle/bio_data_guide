{
 "cells": [
  {
   "cell_type": "markdown",
   "id": "d784c446",
   "metadata": {},
   "source": [
    "# Make some fixes to the data\n",
    "\n",
    "1. The scientificNameID for pinniped is incorrect. `urn:lsid:marinespecies.org:taxname:148736)`, should be `urn:lsid:marinespecies.org:taxname:148736`\n",
    "2. The measurementTypeID for http://vocab.nerc.ac.uk/collection/P14/current/GVAR0007/ and http://vocab.nerc.ac.uk/collection/S06/current/S0600238/ does not resolve."
   ]
  },
  {
   "cell_type": "code",
   "execution_count": 2,
   "id": "dc6d27b3",
   "metadata": {},
   "outputs": [
    {
     "data": {
      "text/html": [
       "<div>\n",
       "<style scoped>\n",
       "    .dataframe tbody tr th:only-of-type {\n",
       "        vertical-align: middle;\n",
       "    }\n",
       "\n",
       "    .dataframe tbody tr th {\n",
       "        vertical-align: top;\n",
       "    }\n",
       "\n",
       "    .dataframe thead th {\n",
       "        text-align: right;\n",
       "    }\n",
       "</style>\n",
       "<table border=\"1\" class=\"dataframe\">\n",
       "  <thead>\n",
       "    <tr style=\"text-align: right;\">\n",
       "      <th></th>\n",
       "      <th>eventDate</th>\n",
       "      <th>vernacularName</th>\n",
       "      <th>scientificNameID</th>\n",
       "      <th>scientificName</th>\n",
       "      <th>taxonRank</th>\n",
       "      <th>kingdom</th>\n",
       "      <th>decimalLatitude</th>\n",
       "      <th>decimalLongitude</th>\n",
       "      <th>occurrenceID</th>\n",
       "      <th>coordinateUncertaintyInMeters</th>\n",
       "      <th>countryCode</th>\n",
       "      <th>geodeticDatum</th>\n",
       "      <th>occurrenceStatus</th>\n",
       "      <th>basisOfRecord</th>\n",
       "      <th>eventID</th>\n",
       "      <th>maximumDepthInMeters</th>\n",
       "      <th>minimumDepthInMeters</th>\n",
       "      <th>samplingProtocol</th>\n",
       "      <th>associatedReferences</th>\n",
       "    </tr>\n",
       "  </thead>\n",
       "  <tbody>\n",
       "    <tr>\n",
       "      <th>11354</th>\n",
       "      <td>2020-02-20</td>\n",
       "      <td>fin whale</td>\n",
       "      <td>urn:lsid:marinespecies.org:taxname:137091</td>\n",
       "      <td>Balaenoptera physalus</td>\n",
       "      <td>Species</td>\n",
       "      <td>Animalia</td>\n",
       "      <td>34.01780</td>\n",
       "      <td>-119.317000</td>\n",
       "      <td>siteCI05_station04_fin_whale_2020-02-20</td>\n",
       "      <td>52754</td>\n",
       "      <td>US</td>\n",
       "      <td>WGS84</td>\n",
       "      <td>present</td>\n",
       "      <td>MachineObservation</td>\n",
       "      <td>CI05_4_2020-02-20</td>\n",
       "      <td>15.0</td>\n",
       "      <td>15.0</td>\n",
       "      <td>passive acoustic monitoring</td>\n",
       "      <td>[1] Collins M.D., A split-step Padé solution f...</td>\n",
       "    </tr>\n",
       "    <tr>\n",
       "      <th>19823</th>\n",
       "      <td>2021-02-20</td>\n",
       "      <td>fin whale</td>\n",
       "      <td>urn:lsid:marinespecies.org:taxname:137091</td>\n",
       "      <td>Balaenoptera physalus</td>\n",
       "      <td>Species</td>\n",
       "      <td>Animalia</td>\n",
       "      <td>36.37021</td>\n",
       "      <td>-122.314903</td>\n",
       "      <td>siteMB03_station04_fin_whale_2021-02-20</td>\n",
       "      <td>84183</td>\n",
       "      <td>US</td>\n",
       "      <td>WGS84</td>\n",
       "      <td>present</td>\n",
       "      <td>MachineObservation</td>\n",
       "      <td>MB03_4_2021-02-20</td>\n",
       "      <td>15.0</td>\n",
       "      <td>15.0</td>\n",
       "      <td>passive acoustic monitoring</td>\n",
       "      <td>[1] Collins M.D., A split-step Padé solution f...</td>\n",
       "    </tr>\n",
       "    <tr>\n",
       "      <th>11537</th>\n",
       "      <td>2020-02-29</td>\n",
       "      <td>dolphin</td>\n",
       "      <td>urn:lsid:marinespecies.org:taxname:2688</td>\n",
       "      <td>Cetacea</td>\n",
       "      <td>Infraorder</td>\n",
       "      <td>Animalia</td>\n",
       "      <td>24.48880</td>\n",
       "      <td>-81.666316</td>\n",
       "      <td>siteFK02_station04_dolphin_2020-02-29</td>\n",
       "      <td>1648</td>\n",
       "      <td>US</td>\n",
       "      <td>WGS84</td>\n",
       "      <td>present</td>\n",
       "      <td>MachineObservation</td>\n",
       "      <td>FK02_4_2020-02-29</td>\n",
       "      <td>1.0</td>\n",
       "      <td>1.0</td>\n",
       "      <td>passive acoustic monitoring</td>\n",
       "      <td>[1] Collins M.D., A split-step Padé solution f...</td>\n",
       "    </tr>\n",
       "    <tr>\n",
       "      <th>2486</th>\n",
       "      <td>2019-03-16</td>\n",
       "      <td>sei whale</td>\n",
       "      <td>urn:lsid:marinespecies.org:taxname:137088</td>\n",
       "      <td>Balaenoptera borealis</td>\n",
       "      <td>Species</td>\n",
       "      <td>Animalia</td>\n",
       "      <td>42.43668</td>\n",
       "      <td>-70.546655</td>\n",
       "      <td>siteSB01_station02_sei_whale_2019-03-16</td>\n",
       "      <td>48578</td>\n",
       "      <td>US</td>\n",
       "      <td>WGS84</td>\n",
       "      <td>present</td>\n",
       "      <td>MachineObservation</td>\n",
       "      <td>SB01_2_2019-03-16</td>\n",
       "      <td>20.0</td>\n",
       "      <td>20.0</td>\n",
       "      <td>passive acoustic monitoring</td>\n",
       "      <td>[1] Collins M.D., A split-step Padé solution f...</td>\n",
       "    </tr>\n",
       "  </tbody>\n",
       "</table>\n",
       "</div>"
      ],
      "text/plain": [
       "        eventDate vernacularName                           scientificNameID  \\\n",
       "11354  2020-02-20      fin whale  urn:lsid:marinespecies.org:taxname:137091   \n",
       "19823  2021-02-20      fin whale  urn:lsid:marinespecies.org:taxname:137091   \n",
       "11537  2020-02-29        dolphin    urn:lsid:marinespecies.org:taxname:2688   \n",
       "2486   2019-03-16      sei whale  urn:lsid:marinespecies.org:taxname:137088   \n",
       "\n",
       "              scientificName   taxonRank   kingdom  decimalLatitude  \\\n",
       "11354  Balaenoptera physalus     Species  Animalia         34.01780   \n",
       "19823  Balaenoptera physalus     Species  Animalia         36.37021   \n",
       "11537                Cetacea  Infraorder  Animalia         24.48880   \n",
       "2486   Balaenoptera borealis     Species  Animalia         42.43668   \n",
       "\n",
       "       decimalLongitude                             occurrenceID  \\\n",
       "11354       -119.317000  siteCI05_station04_fin_whale_2020-02-20   \n",
       "19823       -122.314903  siteMB03_station04_fin_whale_2021-02-20   \n",
       "11537        -81.666316    siteFK02_station04_dolphin_2020-02-29   \n",
       "2486         -70.546655  siteSB01_station02_sei_whale_2019-03-16   \n",
       "\n",
       "       coordinateUncertaintyInMeters countryCode geodeticDatum  \\\n",
       "11354                          52754          US         WGS84   \n",
       "19823                          84183          US         WGS84   \n",
       "11537                           1648          US         WGS84   \n",
       "2486                           48578          US         WGS84   \n",
       "\n",
       "      occurrenceStatus       basisOfRecord            eventID  \\\n",
       "11354          present  MachineObservation  CI05_4_2020-02-20   \n",
       "19823          present  MachineObservation  MB03_4_2021-02-20   \n",
       "11537          present  MachineObservation  FK02_4_2020-02-29   \n",
       "2486           present  MachineObservation  SB01_2_2019-03-16   \n",
       "\n",
       "       maximumDepthInMeters  minimumDepthInMeters  \\\n",
       "11354                  15.0                  15.0   \n",
       "19823                  15.0                  15.0   \n",
       "11537                   1.0                   1.0   \n",
       "2486                   20.0                  20.0   \n",
       "\n",
       "                  samplingProtocol  \\\n",
       "11354  passive acoustic monitoring   \n",
       "19823  passive acoustic monitoring   \n",
       "11537  passive acoustic monitoring   \n",
       "2486   passive acoustic monitoring   \n",
       "\n",
       "                                    associatedReferences  \n",
       "11354  [1] Collins M.D., A split-step Padé solution f...  \n",
       "19823  [1] Collins M.D., A split-step Padé solution f...  \n",
       "11537  [1] Collins M.D., A split-step Padé solution f...  \n",
       "2486   [1] Collins M.D., A split-step Padé solution f...  "
      ]
     },
     "execution_count": 2,
     "metadata": {},
     "output_type": "execute_result"
    }
   ],
   "source": [
    "import pandas as pd\n",
    "\n",
    "df_occur = pd.read_csv('data/occurrence_w_coordinateUncertainty.zip', compression='zip')\n",
    "df_occur.sample(n=4)"
   ]
  },
  {
   "cell_type": "markdown",
   "id": "3d5ba21e",
   "metadata": {},
   "source": [
    "Search for entries that contain the character `)`. Remember, you need to escape some special characters."
   ]
  },
  {
   "cell_type": "markdown",
   "id": "c03d0478",
   "metadata": {},
   "source": [
    "Replace the incorrectly formatted `scientificNameID` with the fixed `scientificNameID` entries. Print out some of the entries for that `scientificNameID` to verify the change was made."
   ]
  },
  {
   "cell_type": "code",
   "execution_count": 6,
   "id": "458cdd2f",
   "metadata": {},
   "outputs": [
    {
     "name": "stderr",
     "output_type": "stream",
     "text": [
      "C:\\Users\\Mathew.Biddle\\AppData\\Local\\Temp\\1\\ipykernel_20032\\591385260.py:1: FutureWarning: The default value of regex will change from True to False in a future version. In addition, single character regular expressions will *not* be treated as literal strings when regex=True.\n",
      "  df_occur.loc[df_occur['scientificNameID'].str.contains(\"\\)\"), 'scientificNameID'] = df_occur.loc[df_occur['scientificNameID'].str.contains(\"\\)\"), 'scientificNameID'].str.replace(\")\",\"\")\n"
     ]
    }
   ],
   "source": [
    "df_occur.loc[df_occur['scientificNameID'].str.contains(\"\\)\"), 'scientificNameID'] = df_occur.loc[df_occur['scientificNameID'].str.contains(\"\\)\"), 'scientificNameID'].str.replace(\")\",\"\")"
   ]
  },
  {
   "cell_type": "markdown",
   "id": "54ee6f09",
   "metadata": {},
   "source": [
    "Print out a list of the unique `scientificNameID` strings we have."
   ]
  },
  {
   "cell_type": "code",
   "execution_count": 7,
   "id": "b3f3b77d",
   "metadata": {},
   "outputs": [
    {
     "data": {
      "text/plain": [
       "array(['urn:lsid:marinespecies.org:taxname:274833',\n",
       "       'urn:lsid:marinespecies.org:taxname:137092',\n",
       "       'urn:lsid:marinespecies.org:taxname:275658',\n",
       "       'urn:lsid:marinespecies.org:taxname:137090',\n",
       "       'urn:lsid:marinespecies.org:taxname:137091',\n",
       "       'urn:lsid:marinespecies.org:taxname:2688',\n",
       "       'urn:lsid:marinespecies.org:taxname:126436',\n",
       "       'urn:lsid:marinespecies.org:taxname:137087',\n",
       "       'urn:lsid:marinespecies.org:taxname:159023',\n",
       "       'urn:lsid:marinespecies.org:taxname:137088',\n",
       "       'urn:lsid:marinespecies.org:taxname:148736',\n",
       "       'urn:lsid:marinespecies.org:taxname:159231',\n",
       "       'urn:lsid:marinespecies.org:taxname:159354',\n",
       "       'urn:lsid:marinespecies.org:taxname:137102'], dtype=object)"
      ]
     },
     "execution_count": 7,
     "metadata": {},
     "output_type": "execute_result"
    }
   ],
   "source": [
    "df_occur['scientificNameID'].unique()"
   ]
  },
  {
   "cell_type": "markdown",
   "id": "e889a637",
   "metadata": {},
   "source": [
    "Test each `scientificNameID` to see if Worms page exists."
   ]
  },
  {
   "cell_type": "code",
   "execution_count": 26,
   "id": "158340d9",
   "metadata": {},
   "outputs": [
    {
     "name": "stdout",
     "output_type": "stream",
     "text": [
      "https://www.marinespecies.org/rest/AphiaNameByAphiaID/274833\n",
      "b'\"Sebastes paucispinis\"'\n",
      "https://www.marinespecies.org/rest/AphiaNameByAphiaID/137092\n",
      "b'\"Megaptera novaeangliae\"'\n",
      "https://www.marinespecies.org/rest/AphiaNameByAphiaID/275658\n",
      "b'\"Porichthys notatus\"'\n",
      "https://www.marinespecies.org/rest/AphiaNameByAphiaID/137090\n",
      "b'\"Balaenoptera musculus\"'\n",
      "https://www.marinespecies.org/rest/AphiaNameByAphiaID/137091\n",
      "b'\"Balaenoptera physalus\"'\n",
      "https://www.marinespecies.org/rest/AphiaNameByAphiaID/2688\n",
      "b'\"Cetacea\"'\n",
      "https://www.marinespecies.org/rest/AphiaNameByAphiaID/126436\n",
      "b'\"Gadus morhua\"'\n",
      "https://www.marinespecies.org/rest/AphiaNameByAphiaID/137087\n",
      "b'\"Balaenoptera acutorostrata\"'\n",
      "https://www.marinespecies.org/rest/AphiaNameByAphiaID/159023\n",
      "b'\"Eubalaena glacialis\"'\n",
      "https://www.marinespecies.org/rest/AphiaNameByAphiaID/137088\n",
      "b'\"Balaenoptera borealis\"'\n",
      "https://www.marinespecies.org/rest/AphiaNameByAphiaID/148736\n",
      "b'\"Pinnipedia\"'\n",
      "https://www.marinespecies.org/rest/AphiaNameByAphiaID/159231\n",
      "b'\"Mycteroperca bonaci\"'\n",
      "https://www.marinespecies.org/rest/AphiaNameByAphiaID/159354\n",
      "b'\"Epinephelus morio\"'\n",
      "https://www.marinespecies.org/rest/AphiaNameByAphiaID/137102\n",
      "b'\"Orcinus orca\"'\n"
     ]
    }
   ],
   "source": [
    "import urllib.request\n",
    "\n",
    "for sciNameID in df_occur['scientificNameID'].unique().tolist():\n",
    "    base_url = 'https://www.marinespecies.org/rest/AphiaNameByAphiaID/'\n",
    "    key = sciNameID.split(\":\")[-1]\n",
    "    url = base_url + key\n",
    "    print(url)\n",
    "    \n",
    "    try :\n",
    "        urllib.request.urlopen(url)\n",
    "    except:\n",
    "        print(url, \"failed\")\n",
    "    \n",
    "    request = urllib.request.urlopen(url)\n",
    "    print(request.read())"
   ]
  },
  {
   "cell_type": "markdown",
   "id": "431d2dae",
   "metadata": {},
   "source": [
    "# Overwrite data file with fixed data"
   ]
  },
  {
   "cell_type": "code",
   "execution_count": 8,
   "id": "88dc314a",
   "metadata": {},
   "outputs": [],
   "source": [
    "df_occur.to_csv('data/occurrence_w_coordinateUncertainty.zip', compression='zip', index=False)"
   ]
  },
  {
   "cell_type": "code",
   "execution_count": null,
   "id": "defd8c3e",
   "metadata": {},
   "outputs": [],
   "source": []
  }
 ],
 "metadata": {
  "kernelspec": {
   "display_name": "IOOS",
   "language": "python",
   "name": "python3"
  },
  "language_info": {
   "codemirror_mode": {
    "name": "ipython",
    "version": 3
   },
   "file_extension": ".py",
   "mimetype": "text/x-python",
   "name": "python",
   "nbconvert_exporter": "python",
   "pygments_lexer": "ipython3",
   "version": "3.11.0"
  }
 },
 "nbformat": 4,
 "nbformat_minor": 5
}
